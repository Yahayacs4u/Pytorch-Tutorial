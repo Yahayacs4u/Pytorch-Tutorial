{
  "nbformat": 4,
  "nbformat_minor": 0,
  "metadata": {
    "colab": {
      "provenance": [],
      "gpuType": "T4",
      "authorship_tag": "ABX9TyMFFlKmGeguIxYS+UJ81k15",
      "include_colab_link": true
    },
    "kernelspec": {
      "name": "python3",
      "display_name": "Python 3"
    },
    "language_info": {
      "name": "python"
    },
    "accelerator": "GPU"
  },
  "cells": [
    {
      "cell_type": "markdown",
      "metadata": {
        "id": "view-in-github",
        "colab_type": "text"
      },
      "source": [
        "<a href=\"https://colab.research.google.com/github/Yahayacs4u/Pytorch-Tutorial/blob/main/PYTORCH_BASIC.ipynb\" target=\"_parent\"><img src=\"https://colab.research.google.com/assets/colab-badge.svg\" alt=\"Open In Colab\"/></a>"
      ]
    },
    {
      "cell_type": "code",
      "execution_count": 2,
      "metadata": {
        "id": "DysOhJe2lrvC"
      },
      "outputs": [],
      "source": [
        "import pandas as pd\n",
        "import seaborn as sns\n",
        "import matplotlib.pyplot as plt\n",
        "import numpy as np\n",
        "import io\n",
        "import torch"
      ]
    },
    {
      "cell_type": "code",
      "source": [
        "#df = sns.load_dataset(\"iris\")"
      ],
      "metadata": {
        "id": "i6qWkIBtnCx-"
      },
      "execution_count": null,
      "outputs": []
    },
    {
      "cell_type": "code",
      "source": [
        "tensor_a = torch.arange(10)"
      ],
      "metadata": {
        "id": "srn_RUxUq2D2"
      },
      "execution_count": 5,
      "outputs": []
    },
    {
      "cell_type": "code",
      "source": [
        "tensor_a"
      ],
      "metadata": {
        "colab": {
          "base_uri": "https://localhost:8080/"
        },
        "id": "1o9sgmFmENme",
        "outputId": "a14c0e38-8c88-4b7a-dc9e-16093a1cc70c"
      },
      "execution_count": 7,
      "outputs": [
        {
          "output_type": "execute_result",
          "data": {
            "text/plain": [
              "tensor([0, 1, 2, 3, 4, 5, 6, 7, 8, 9])"
            ]
          },
          "metadata": {},
          "execution_count": 7
        }
      ]
    },
    {
      "cell_type": "code",
      "source": [
        "tensor_b = torch.arange(10)"
      ],
      "metadata": {
        "id": "vtjGM6BmEPsW"
      },
      "execution_count": 8,
      "outputs": []
    },
    {
      "cell_type": "code",
      "source": [
        "tensor_b"
      ],
      "metadata": {
        "colab": {
          "base_uri": "https://localhost:8080/"
        },
        "id": "tHOYGSG7EoD1",
        "outputId": "545b8735-1f0f-49e6-d2f3-92b39f404b03"
      },
      "execution_count": 9,
      "outputs": [
        {
          "output_type": "execute_result",
          "data": {
            "text/plain": [
              "tensor([0, 1, 2, 3, 4, 5, 6, 7, 8, 9])"
            ]
          },
          "metadata": {},
          "execution_count": 9
        }
      ]
    },
    {
      "cell_type": "code",
      "source": [
        "x = tensor_a+tensor_b\n",
        "x"
      ],
      "metadata": {
        "colab": {
          "base_uri": "https://localhost:8080/"
        },
        "id": "-xD2heeVEqfU",
        "outputId": "9801adb3-63e0-47ed-c050-0031670b1128"
      },
      "execution_count": 10,
      "outputs": [
        {
          "output_type": "execute_result",
          "data": {
            "text/plain": [
              "tensor([ 0,  2,  4,  6,  8, 10, 12, 14, 16, 18])"
            ]
          },
          "metadata": {},
          "execution_count": 10
        }
      ]
    },
    {
      "cell_type": "code",
      "source": [
        "torch.add(tensor_a, tensor_b)\n"
      ],
      "metadata": {
        "colab": {
          "base_uri": "https://localhost:8080/"
        },
        "id": "Z0p1F3FCEzkg",
        "outputId": "0851963c-26c8-4285-e63f-aa82b4ca9c60"
      },
      "execution_count": 12,
      "outputs": [
        {
          "output_type": "execute_result",
          "data": {
            "text/plain": [
              "tensor([ 0,  2,  4,  6,  8, 10, 12, 14, 16, 18])"
            ]
          },
          "metadata": {},
          "execution_count": 12
        }
      ]
    },
    {
      "cell_type": "code",
      "source": [
        "torch.mul(tensor_a, tensor_b)"
      ],
      "metadata": {
        "colab": {
          "base_uri": "https://localhost:8080/"
        },
        "id": "aLzyyKIJFA3u",
        "outputId": "27d73ef8-87d9-4972-9a9e-66409bcb4689"
      },
      "execution_count": 13,
      "outputs": [
        {
          "output_type": "execute_result",
          "data": {
            "text/plain": [
              "tensor([ 0,  1,  4,  9, 16, 25, 36, 49, 64, 81])"
            ]
          },
          "metadata": {},
          "execution_count": 13
        }
      ]
    },
    {
      "cell_type": "code",
      "source": [
        "torch.sub(tensor_a, tensor_b)"
      ],
      "metadata": {
        "colab": {
          "base_uri": "https://localhost:8080/"
        },
        "id": "apxNh6xUFKcv",
        "outputId": "eedee842-172a-4930-eccd-41bca5c3200b"
      },
      "execution_count": 14,
      "outputs": [
        {
          "output_type": "execute_result",
          "data": {
            "text/plain": [
              "tensor([0, 0, 0, 0, 0, 0, 0, 0, 0, 0])"
            ]
          },
          "metadata": {},
          "execution_count": 14
        }
      ]
    },
    {
      "cell_type": "code",
      "source": [
        "torch.div(tensor_a, tensor_b)"
      ],
      "metadata": {
        "colab": {
          "base_uri": "https://localhost:8080/"
        },
        "id": "wp03sr0nFx1l",
        "outputId": "8af75149-26d8-40a0-8b0f-a80decca7e79"
      },
      "execution_count": 15,
      "outputs": [
        {
          "output_type": "execute_result",
          "data": {
            "text/plain": [
              "tensor([nan, 1., 1., 1., 1., 1., 1., 1., 1., 1.])"
            ]
          },
          "metadata": {},
          "execution_count": 15
        }
      ]
    },
    {
      "cell_type": "code",
      "source": [
        "y = torch.arange(2,3)"
      ],
      "metadata": {
        "id": "SZW3rPjiJH8Q"
      },
      "execution_count": 16,
      "outputs": []
    },
    {
      "cell_type": "code",
      "source": [
        "y"
      ],
      "metadata": {
        "colab": {
          "base_uri": "https://localhost:8080/"
        },
        "id": "qOalpnS8JS4Q",
        "outputId": "4725f120-f24b-4942-c12a-c466be96b6e2"
      },
      "execution_count": 17,
      "outputs": [
        {
          "output_type": "execute_result",
          "data": {
            "text/plain": [
              "tensor([2])"
            ]
          },
          "metadata": {},
          "execution_count": 17
        }
      ]
    },
    {
      "cell_type": "code",
      "source": [
        "tensor_a.reshape(2,5)"
      ],
      "metadata": {
        "colab": {
          "base_uri": "https://localhost:8080/"
        },
        "id": "Qitwbl3KJT7V",
        "outputId": "9e57bbc3-6d8b-428d-edcc-6bbd59963b52"
      },
      "execution_count": 18,
      "outputs": [
        {
          "output_type": "execute_result",
          "data": {
            "text/plain": [
              "tensor([[0, 1, 2, 3, 4],\n",
              "        [5, 6, 7, 8, 9]])"
            ]
          },
          "metadata": {},
          "execution_count": 18
        }
      ]
    },
    {
      "cell_type": "code",
      "source": [
        "my_list = [1,2,3,4,5]\n",
        "my_list"
      ],
      "metadata": {
        "colab": {
          "base_uri": "https://localhost:8080/"
        },
        "id": "h6tfno7wJuiM",
        "outputId": "2bec6a96-0ba3-4169-82c9-11b7b5747339"
      },
      "execution_count": 12,
      "outputs": [
        {
          "output_type": "execute_result",
          "data": {
            "text/plain": [
              "[1, 2, 3, 4, 5]"
            ]
          },
          "metadata": {},
          "execution_count": 12
        }
      ]
    },
    {
      "cell_type": "code",
      "source": [],
      "metadata": {
        "id": "4shKgH_7P66Z"
      },
      "execution_count": 13,
      "outputs": []
    },
    {
      "cell_type": "code",
      "source": [
        "my_list2 = [[1,2,3,4,5],[6,7,8,9,10]]"
      ],
      "metadata": {
        "colab": {
          "base_uri": "https://localhost:8080/"
        },
        "id": "xCyE3F21KOOy",
        "outputId": "eb73bafe-3d1c-4331-b482-d0d0f80437cf"
      },
      "execution_count": 2,
      "outputs": [
        {
          "output_type": "execute_result",
          "data": {
            "text/plain": [
              "[[1, 2, 3, 4, 5], [6, 7, 8, 9, 10]]"
            ]
          },
          "metadata": {},
          "execution_count": 2
        }
      ]
    },
    {
      "cell_type": "code",
      "source": [],
      "metadata": {
        "id": "ZSgmtRrYKajJ"
      },
      "execution_count": 13,
      "outputs": []
    },
    {
      "cell_type": "code",
      "source": [
        "x = np.random.rand(3,3)\n",
        "x"
      ],
      "metadata": {
        "colab": {
          "base_uri": "https://localhost:8080/"
        },
        "id": "6-yEpYMpKhQN",
        "outputId": "1873444d-bf8c-4cd5-929c-47a18c918be8"
      },
      "execution_count": 7,
      "outputs": [
        {
          "output_type": "execute_result",
          "data": {
            "text/plain": [
              "array([[0.30820368, 0.96916715, 0.53108951],\n",
              "       [0.47319514, 0.0593679 , 0.43412268],\n",
              "       [0.29675608, 0.53969344, 0.45901516]])"
            ]
          },
          "metadata": {},
          "execution_count": 7
        }
      ]
    },
    {
      "cell_type": "code",
      "source": [
        "x.dtype"
      ],
      "metadata": {
        "colab": {
          "base_uri": "https://localhost:8080/"
        },
        "id": "uDsh2CbMQTj6",
        "outputId": "e2c5a93e-e715-49ce-955f-eb1407916d9e"
      },
      "execution_count": 14,
      "outputs": [
        {
          "output_type": "execute_result",
          "data": {
            "text/plain": [
              "dtype('float64')"
            ]
          },
          "metadata": {},
          "execution_count": 14
        }
      ]
    },
    {
      "cell_type": "code",
      "source": [
        "y = torch.randn(3,3)\n",
        "y"
      ],
      "metadata": {
        "colab": {
          "base_uri": "https://localhost:8080/"
        },
        "id": "HaZ4P3GbPC54",
        "outputId": "8ca15e91-550e-4db1-9f97-f256c3c15173"
      },
      "execution_count": 8,
      "outputs": [
        {
          "output_type": "execute_result",
          "data": {
            "text/plain": [
              "tensor([[-0.7131, -1.7355,  0.6053],\n",
              "        [-0.3003,  1.2458,  0.8586],\n",
              "        [-0.6129,  0.0441, -1.2799]])"
            ]
          },
          "metadata": {},
          "execution_count": 8
        }
      ]
    },
    {
      "cell_type": "code",
      "source": [
        "m2d = torch.tensor(x)\n",
        "m2d"
      ],
      "metadata": {
        "colab": {
          "base_uri": "https://localhost:8080/"
        },
        "id": "9_vydihQPS8L",
        "outputId": "b3c38084-6b3c-4c8c-d7ed-a29ce67e990a"
      },
      "execution_count": 19,
      "outputs": [
        {
          "output_type": "execute_result",
          "data": {
            "text/plain": [
              "tensor([[0.3082, 0.9692, 0.5311],\n",
              "        [0.4732, 0.0594, 0.4341],\n",
              "        [0.2968, 0.5397, 0.4590]], dtype=torch.float64)"
            ]
          },
          "metadata": {},
          "execution_count": 19
        }
      ]
    },
    {
      "cell_type": "code",
      "source": [
        "y3d = torch.randn(3,4,5)\n",
        "y3d"
      ],
      "metadata": {
        "colab": {
          "base_uri": "https://localhost:8080/"
        },
        "id": "iMA5AvCUPbP8",
        "outputId": "a85b5729-9689-4c76-d0b1-d2a74b7297c5"
      },
      "execution_count": 20,
      "outputs": [
        {
          "output_type": "execute_result",
          "data": {
            "text/plain": [
              "tensor([[[ 0.3443,  0.7345,  0.6655, -1.0322, -0.3267],\n",
              "         [ 0.3567,  1.6245,  0.0731,  0.9445,  1.2607],\n",
              "         [-0.6350, -0.3375, -2.2440, -0.3834, -0.0845],\n",
              "         [-2.3642,  0.2698, -1.8769,  1.5270, -1.1477]],\n",
              "\n",
              "        [[ 0.2922,  0.0709, -0.2523,  2.0171,  1.4204],\n",
              "         [-1.6318,  1.0510, -0.4792, -2.1780, -1.2241],\n",
              "         [-0.5989,  0.4038, -0.2863,  0.1689,  0.9976],\n",
              "         [ 2.7287,  0.3209, -1.5317,  0.3969,  0.7638]],\n",
              "\n",
              "        [[-0.3964, -0.4505,  0.3682, -1.0775, -0.0480],\n",
              "         [-0.8138, -0.6685,  0.8962, -1.2851,  1.4187],\n",
              "         [ 0.4032,  1.5057,  1.9293,  0.4956, -1.3476],\n",
              "         [-0.2142,  0.2325,  1.1354,  1.5803,  0.2129]]])"
            ]
          },
          "metadata": {},
          "execution_count": 20
        }
      ]
    },
    {
      "cell_type": "code",
      "source": [
        "y4d = torch.randn(3,4,5,6)\n",
        "y4d"
      ],
      "metadata": {
        "colab": {
          "base_uri": "https://localhost:8080/"
        },
        "id": "VNJzrtpYQjqe",
        "outputId": "8d03a6e9-dab0-403a-9943-f701b174d34e"
      },
      "execution_count": 21,
      "outputs": [
        {
          "output_type": "execute_result",
          "data": {
            "text/plain": [
              "tensor([[[[-1.3671e+00, -1.8073e+00, -1.1286e+00, -3.0065e-01, -7.1085e-01,\n",
              "           -7.1462e-01],\n",
              "          [-2.1305e-01, -1.7150e+00,  2.3608e-01, -6.7765e-01, -1.3709e-01,\n",
              "           -1.0603e+00],\n",
              "          [-4.4525e-01,  3.1416e-01,  5.6974e-01,  5.0206e-01,  5.9853e-01,\n",
              "            2.1593e+00],\n",
              "          [ 1.6853e+00, -5.6742e-02, -9.1324e-02, -2.0710e+00,  5.7839e-01,\n",
              "           -6.3755e-01],\n",
              "          [-1.8035e-01, -6.3724e-01, -1.4595e+00,  7.2395e-01,  6.7351e-02,\n",
              "            1.5168e+00]],\n",
              "\n",
              "         [[-4.3470e-01, -2.3461e-01,  3.8705e-01,  6.4313e-01, -1.0760e+00,\n",
              "           -5.9943e-01],\n",
              "          [-1.4436e+00,  5.0594e-01, -9.2169e-01, -8.8234e-01, -2.1194e-01,\n",
              "           -2.9194e-01],\n",
              "          [-2.2075e+00, -6.7606e-01,  1.2762e+00,  6.7822e-01,  4.2882e-01,\n",
              "           -5.7163e-01],\n",
              "          [ 4.9032e-01,  5.3625e-01, -6.6117e-01,  1.1019e+00, -1.9732e-01,\n",
              "           -2.9900e-01],\n",
              "          [ 1.0806e+00,  9.4703e-01, -5.9083e-01,  5.7441e-01, -1.5485e-01,\n",
              "            2.6261e+00]],\n",
              "\n",
              "         [[-9.9155e-01, -3.0883e-01, -4.4684e-01, -3.2981e-01, -7.5370e-01,\n",
              "            5.1173e-01],\n",
              "          [-1.5786e+00,  1.0935e+00, -3.0196e-01, -2.0248e+00,  3.6485e-01,\n",
              "            1.6000e-01],\n",
              "          [-1.2040e+00, -1.5061e+00,  6.3472e-01, -9.1311e-02,  5.6123e-01,\n",
              "            1.8987e-01],\n",
              "          [ 1.2360e+00, -1.4558e+00, -2.4369e+00, -4.6458e-01, -8.9673e-01,\n",
              "           -4.6579e-01],\n",
              "          [-1.8708e+00,  7.2373e-01, -1.2162e+00, -4.4398e-01,  1.6180e+00,\n",
              "            1.7685e+00]],\n",
              "\n",
              "         [[-9.2518e-01,  6.4982e-01,  5.0552e-01, -7.3070e-02, -1.0029e+00,\n",
              "           -2.6133e-02],\n",
              "          [-1.6478e-02,  1.6631e+00, -4.2964e-01,  4.0997e-01,  1.5198e-01,\n",
              "            3.0836e-01],\n",
              "          [ 1.9314e-01, -1.2698e+00,  3.4307e-01,  2.8414e-02, -5.7244e-01,\n",
              "            1.7068e-02],\n",
              "          [ 1.6496e+00, -3.3042e-01,  5.9405e-01,  1.7530e+00,  1.4911e+00,\n",
              "            2.1966e+00],\n",
              "          [ 9.6032e-03, -9.0378e-01,  5.9832e-01,  9.6705e-02, -4.0274e-01,\n",
              "           -1.5179e-01]]],\n",
              "\n",
              "\n",
              "        [[[ 1.6838e-01,  3.1099e-02, -6.8043e-01, -2.1940e-01, -8.3041e-01,\n",
              "           -1.3262e+00],\n",
              "          [ 4.6513e-02, -5.7272e-01,  1.8662e-01, -1.5113e-01,  1.3508e+00,\n",
              "           -2.5367e+00],\n",
              "          [-8.7301e-01,  3.4319e-01,  9.6641e-01, -3.5682e-01, -6.1720e-02,\n",
              "            2.7680e-02],\n",
              "          [ 6.6357e-01,  7.8641e-01, -3.3721e-01, -2.7048e-01,  9.0296e-01,\n",
              "            1.0172e+00],\n",
              "          [-9.5840e-01, -1.1721e+00, -2.8975e-01, -3.4721e-02, -3.0972e-01,\n",
              "           -1.9237e-01]],\n",
              "\n",
              "         [[-6.3542e-01,  2.0764e-01, -9.9826e-01,  2.2687e-01,  8.0914e-01,\n",
              "            1.2905e+00],\n",
              "          [ 6.5892e-01,  5.2926e-01, -3.3158e-01, -1.1504e+00, -5.4225e-01,\n",
              "            7.1060e-01],\n",
              "          [ 6.3089e-02, -7.1358e-01, -1.8905e-01,  4.6120e-01, -1.0011e+00,\n",
              "           -7.7506e-01],\n",
              "          [ 3.3579e-01, -7.7746e-01,  1.6046e-01,  8.1816e-01, -2.4292e+00,\n",
              "            1.4969e+00],\n",
              "          [ 8.8724e-01, -1.1412e+00, -3.4517e-02,  8.1728e-01,  1.4568e+00,\n",
              "           -2.1080e-01]],\n",
              "\n",
              "         [[ 1.3286e-01, -1.3919e+00,  2.4817e-01,  4.8918e-01, -2.1114e-01,\n",
              "           -8.1608e-01],\n",
              "          [-6.4024e-01,  1.0887e+00,  1.9289e+00, -8.5254e-01,  8.2073e-01,\n",
              "            1.1583e+00],\n",
              "          [ 3.9980e-01,  1.4234e-01, -1.2707e+00, -2.6415e+00, -2.5955e+00,\n",
              "            3.4046e-01],\n",
              "          [-1.3981e+00, -1.3527e+00, -3.0045e-01, -2.6156e-01, -1.0949e+00,\n",
              "            1.8305e+00],\n",
              "          [-1.8093e+00, -1.3557e+00,  9.0219e-01, -9.3088e-01,  5.3079e-01,\n",
              "            1.0030e+00]],\n",
              "\n",
              "         [[-3.5496e-01,  5.7382e-01, -1.4867e-01, -8.9176e-01,  1.5423e+00,\n",
              "            5.8698e-01],\n",
              "          [ 6.6613e-02, -5.0415e-01, -8.9017e-04, -6.4234e-01,  5.8008e-01,\n",
              "           -1.0972e+00],\n",
              "          [-6.2253e-01,  1.4146e-01,  7.1200e-01, -4.2324e-01,  7.2341e-01,\n",
              "            6.8082e-01],\n",
              "          [ 8.1342e-01, -8.0712e-01, -6.1557e-01, -1.0812e+00,  7.0435e-01,\n",
              "           -1.0183e-01],\n",
              "          [ 9.8509e-01, -1.2739e+00, -9.4704e-01, -2.1719e+00, -1.7756e+00,\n",
              "            1.9171e-01]]],\n",
              "\n",
              "\n",
              "        [[[ 1.8836e-01,  7.8543e-01,  6.3443e-01, -6.6823e-01, -2.8952e-01,\n",
              "            1.1433e-01],\n",
              "          [-1.1591e+00, -1.5012e-01, -9.1554e-01,  1.2693e-01,  6.3968e-01,\n",
              "            2.9828e-01],\n",
              "          [-5.0845e-02,  2.4543e-01, -7.9203e-02,  4.7027e-01,  9.6805e-01,\n",
              "           -5.2356e-01],\n",
              "          [-1.9114e-01, -6.5477e-01,  1.0026e-01, -1.6235e-01, -8.0901e-01,\n",
              "           -1.7385e+00],\n",
              "          [-1.5401e-01, -8.5519e-02, -6.6719e-01, -1.5399e-01,  3.3604e-01,\n",
              "           -2.3428e-01]],\n",
              "\n",
              "         [[ 6.2572e-01,  6.8293e-01,  1.2775e+00,  7.0236e-01,  1.1481e+00,\n",
              "           -6.1451e-01],\n",
              "          [-7.2047e-01,  4.9837e-01,  1.4025e+00,  1.0559e-01,  2.3780e+00,\n",
              "           -1.2956e+00],\n",
              "          [-1.1453e+00,  6.8029e-01,  1.5761e+00,  4.1877e-01, -9.9150e-01,\n",
              "           -3.0112e-01],\n",
              "          [-1.3934e+00, -2.0671e+00, -5.0358e-01, -1.2316e+00, -1.3157e+00,\n",
              "           -1.7053e+00],\n",
              "          [ 1.8147e+00,  1.3501e+00, -1.2296e+00, -1.6125e+00,  5.1799e-01,\n",
              "           -6.8805e-01]],\n",
              "\n",
              "         [[ 1.2000e+00, -1.5905e+00, -1.3980e+00,  4.7131e-01, -3.8506e-01,\n",
              "            1.8891e+00],\n",
              "          [-1.8405e+00, -2.0118e+00,  6.9568e-01, -1.0366e+00,  2.1502e-02,\n",
              "            9.3056e-01],\n",
              "          [ 1.1275e+00,  5.5663e-01, -1.1477e+00, -1.2222e-01,  4.8209e-01,\n",
              "            6.6504e-02],\n",
              "          [-3.4238e-02, -3.7541e-01, -7.1629e-01, -7.4295e-01,  1.1633e+00,\n",
              "            4.2028e-01],\n",
              "          [-4.0695e-01,  5.0903e-01,  8.4723e-01,  2.0963e-01, -4.1592e-01,\n",
              "            1.0639e-01]],\n",
              "\n",
              "         [[-1.5032e+00, -4.5161e-01,  5.7675e-01, -3.4948e-02, -1.3649e+00,\n",
              "           -7.7285e-01],\n",
              "          [-5.8706e-01,  7.6597e-01, -4.2804e-01,  2.5305e+00,  1.8260e+00,\n",
              "            2.1520e+00],\n",
              "          [-7.2156e-02,  1.8261e-01, -1.1715e+00,  1.8168e-01,  5.0177e-01,\n",
              "            6.0026e-01],\n",
              "          [-8.4207e-01,  3.0231e-01, -1.4059e+00,  1.0039e+00, -2.1988e-01,\n",
              "           -1.7913e+00],\n",
              "          [ 1.1897e+00, -1.1444e+00,  2.7541e-01,  6.9725e-01, -2.9516e-01,\n",
              "            9.1165e-02]]]])"
            ]
          },
          "metadata": {},
          "execution_count": 21
        }
      ]
    },
    {
      "cell_type": "code",
      "source": [],
      "metadata": {
        "id": "LAZEH4iCREkl"
      },
      "execution_count": null,
      "outputs": []
    }
  ]
}